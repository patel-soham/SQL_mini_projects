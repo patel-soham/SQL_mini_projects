{
 "cells": [
  {
   "cell_type": "markdown",
   "id": "db5bd2ce-918a-4f7d-a927-a3ea74c4b456",
   "metadata": {},
   "source": [
    "The Nobel Prize has been among the most prestigious international awards since 1901. Each year, awards are bestowed in chemistry, literature, physics, physiology or medicine, economics, and peace. In addition to the honor, prestige, and substantial prize money, the recipient also gets a gold medal with an image of Alfred Nobel (1833 - 1896), who established the prize.\n",
    "\n",
    "![](Nobel_Prize.png)\n",
    "\n",
    "The Nobel Foundation has made a dataset available of all prize winners from the outset of the awards from 1901 to 2023. The dataset used in this project is from the Nobel Prize API and is available in the `nobel.csv` file in the `data` folder.\n",
    "\n",
    "In this project, you'll get a chance to explore and answer several questions related to this prizewinning data. And we encourage you then to explore further questions that you're interested in!"
   ]
  },
  {
   "cell_type": "code",
   "execution_count": 133,
   "id": "11fd5946-7bd1-495c-aa7f-ff6e7e4a350b",
   "metadata": {
    "executionCancelledAt": null,
    "executionTime": 50,
    "lastExecutedAt": 1719103596533,
    "lastExecutedByKernel": "8be4f778-5a8d-47fb-9e65-e6bccb56b657",
    "lastScheduledRunId": null,
    "lastSuccessfullyExecutedCode": "# Loading in required libraries\nimport pandas as pd\nimport seaborn as sns\nimport numpy as np\n\n# Start coding here!\ndf = pd.read_csv(\"data/nobel.csv\")\ndf.head()",
    "outputsMetadata": {
     "0": {
      "height": 237,
      "type": "dataFrame"
     }
    }
   },
   "outputs": [
    {
     "data": {
      "application/com.datacamp.data-table.v2+json": {
       "table": {
        "data": {
         "birth_city": [
          "Rotterdam",
          "Paris",
          "Hansdorf (Lawice)",
          "Geneva",
          "Paris"
         ],
         "birth_country": [
          "Netherlands",
          "France",
          "Prussia (Poland)",
          "Switzerland",
          "France"
         ],
         "birth_date": [
          "1852-08-30",
          "1839-03-16",
          "1854-03-15",
          "1828-05-08",
          "1822-05-20"
         ],
         "category": [
          "Chemistry",
          "Literature",
          "Medicine",
          "Peace",
          "Peace"
         ],
         "death_city": [
          "Berlin",
          "Châtenay",
          "Marburg",
          "Heiden",
          "Paris"
         ],
         "death_country": [
          "Germany",
          "France",
          "Germany",
          "Switzerland",
          "France"
         ],
         "death_date": [
          "1911-03-01",
          "1907-09-07",
          "1917-03-31",
          "1910-10-30",
          "1912-06-12"
         ],
         "full_name": [
          "Jacobus Henricus van 't Hoff",
          "Sully Prudhomme",
          "Emil Adolf von Behring",
          "Jean Henry Dunant",
          "Frédéric Passy"
         ],
         "index": [
          0,
          1,
          2,
          3,
          4
         ],
         "laureate_id": [
          160,
          569,
          293,
          462,
          463
         ],
         "laureate_type": [
          "Individual",
          "Individual",
          "Individual",
          "Individual",
          "Individual"
         ],
         "motivation": [
          "\"in recognition of the extraordinary services he has rendered by the discovery of the laws of chemical dynamics and osmotic pressure in solutions\"",
          "\"in special recognition of his poetic composition, which gives evidence of lofty idealism, artistic perfection and a rare combination of the qualities of both heart and intellect\"",
          "\"for his work on serum therapy, especially its application against diphtheria, by which he has opened a new road in the domain of medical science and thereby placed in the hands of the physician a victorious weapon against illness and deaths\"",
          null,
          null
         ],
         "organization_city": [
          "Berlin",
          null,
          "Marburg",
          null,
          null
         ],
         "organization_country": [
          "Germany",
          null,
          "Germany",
          null,
          null
         ],
         "organization_name": [
          "Berlin University",
          null,
          "Marburg University",
          null,
          null
         ],
         "prize": [
          "The Nobel Prize in Chemistry 1901",
          "The Nobel Prize in Literature 1901",
          "The Nobel Prize in Physiology or Medicine 1901",
          "The Nobel Peace Prize 1901",
          "The Nobel Peace Prize 1901"
         ],
         "prize_share": [
          "1/1",
          "1/1",
          "1/1",
          "1/2",
          "1/2"
         ],
         "sex": [
          "Male",
          "Male",
          "Male",
          "Male",
          "Male"
         ],
         "year": [
          1901,
          1901,
          1901,
          1901,
          1901
         ]
        },
        "schema": {
         "fields": [
          {
           "name": "index",
           "type": "integer"
          },
          {
           "name": "year",
           "type": "integer"
          },
          {
           "name": "category",
           "type": "string"
          },
          {
           "name": "prize",
           "type": "string"
          },
          {
           "name": "motivation",
           "type": "string"
          },
          {
           "name": "prize_share",
           "type": "string"
          },
          {
           "name": "laureate_id",
           "type": "integer"
          },
          {
           "name": "laureate_type",
           "type": "string"
          },
          {
           "name": "full_name",
           "type": "string"
          },
          {
           "name": "birth_date",
           "type": "string"
          },
          {
           "name": "birth_city",
           "type": "string"
          },
          {
           "name": "birth_country",
           "type": "string"
          },
          {
           "name": "sex",
           "type": "string"
          },
          {
           "name": "organization_name",
           "type": "string"
          },
          {
           "name": "organization_city",
           "type": "string"
          },
          {
           "name": "organization_country",
           "type": "string"
          },
          {
           "name": "death_date",
           "type": "string"
          },
          {
           "name": "death_city",
           "type": "string"
          },
          {
           "name": "death_country",
           "type": "string"
          }
         ],
         "pandas_version": "1.4.0",
         "primaryKey": [
          "index"
         ]
        }
       },
       "total_rows": 5,
       "truncation_type": null
      },
      "text/html": [
       "<div>\n",
       "<style scoped>\n",
       "    .dataframe tbody tr th:only-of-type {\n",
       "        vertical-align: middle;\n",
       "    }\n",
       "\n",
       "    .dataframe tbody tr th {\n",
       "        vertical-align: top;\n",
       "    }\n",
       "\n",
       "    .dataframe thead th {\n",
       "        text-align: right;\n",
       "    }\n",
       "</style>\n",
       "<table border=\"1\" class=\"dataframe\">\n",
       "  <thead>\n",
       "    <tr style=\"text-align: right;\">\n",
       "      <th></th>\n",
       "      <th>year</th>\n",
       "      <th>category</th>\n",
       "      <th>prize</th>\n",
       "      <th>motivation</th>\n",
       "      <th>prize_share</th>\n",
       "      <th>laureate_id</th>\n",
       "      <th>laureate_type</th>\n",
       "      <th>full_name</th>\n",
       "      <th>birth_date</th>\n",
       "      <th>birth_city</th>\n",
       "      <th>birth_country</th>\n",
       "      <th>sex</th>\n",
       "      <th>organization_name</th>\n",
       "      <th>organization_city</th>\n",
       "      <th>organization_country</th>\n",
       "      <th>death_date</th>\n",
       "      <th>death_city</th>\n",
       "      <th>death_country</th>\n",
       "    </tr>\n",
       "  </thead>\n",
       "  <tbody>\n",
       "    <tr>\n",
       "      <th>0</th>\n",
       "      <td>1901</td>\n",
       "      <td>Chemistry</td>\n",
       "      <td>The Nobel Prize in Chemistry 1901</td>\n",
       "      <td>\"in recognition of the extraordinary services ...</td>\n",
       "      <td>1/1</td>\n",
       "      <td>160</td>\n",
       "      <td>Individual</td>\n",
       "      <td>Jacobus Henricus van 't Hoff</td>\n",
       "      <td>1852-08-30</td>\n",
       "      <td>Rotterdam</td>\n",
       "      <td>Netherlands</td>\n",
       "      <td>Male</td>\n",
       "      <td>Berlin University</td>\n",
       "      <td>Berlin</td>\n",
       "      <td>Germany</td>\n",
       "      <td>1911-03-01</td>\n",
       "      <td>Berlin</td>\n",
       "      <td>Germany</td>\n",
       "    </tr>\n",
       "    <tr>\n",
       "      <th>1</th>\n",
       "      <td>1901</td>\n",
       "      <td>Literature</td>\n",
       "      <td>The Nobel Prize in Literature 1901</td>\n",
       "      <td>\"in special recognition of his poetic composit...</td>\n",
       "      <td>1/1</td>\n",
       "      <td>569</td>\n",
       "      <td>Individual</td>\n",
       "      <td>Sully Prudhomme</td>\n",
       "      <td>1839-03-16</td>\n",
       "      <td>Paris</td>\n",
       "      <td>France</td>\n",
       "      <td>Male</td>\n",
       "      <td>NaN</td>\n",
       "      <td>NaN</td>\n",
       "      <td>NaN</td>\n",
       "      <td>1907-09-07</td>\n",
       "      <td>Châtenay</td>\n",
       "      <td>France</td>\n",
       "    </tr>\n",
       "    <tr>\n",
       "      <th>2</th>\n",
       "      <td>1901</td>\n",
       "      <td>Medicine</td>\n",
       "      <td>The Nobel Prize in Physiology or Medicine 1901</td>\n",
       "      <td>\"for his work on serum therapy, especially its...</td>\n",
       "      <td>1/1</td>\n",
       "      <td>293</td>\n",
       "      <td>Individual</td>\n",
       "      <td>Emil Adolf von Behring</td>\n",
       "      <td>1854-03-15</td>\n",
       "      <td>Hansdorf (Lawice)</td>\n",
       "      <td>Prussia (Poland)</td>\n",
       "      <td>Male</td>\n",
       "      <td>Marburg University</td>\n",
       "      <td>Marburg</td>\n",
       "      <td>Germany</td>\n",
       "      <td>1917-03-31</td>\n",
       "      <td>Marburg</td>\n",
       "      <td>Germany</td>\n",
       "    </tr>\n",
       "    <tr>\n",
       "      <th>3</th>\n",
       "      <td>1901</td>\n",
       "      <td>Peace</td>\n",
       "      <td>The Nobel Peace Prize 1901</td>\n",
       "      <td>NaN</td>\n",
       "      <td>1/2</td>\n",
       "      <td>462</td>\n",
       "      <td>Individual</td>\n",
       "      <td>Jean Henry Dunant</td>\n",
       "      <td>1828-05-08</td>\n",
       "      <td>Geneva</td>\n",
       "      <td>Switzerland</td>\n",
       "      <td>Male</td>\n",
       "      <td>NaN</td>\n",
       "      <td>NaN</td>\n",
       "      <td>NaN</td>\n",
       "      <td>1910-10-30</td>\n",
       "      <td>Heiden</td>\n",
       "      <td>Switzerland</td>\n",
       "    </tr>\n",
       "    <tr>\n",
       "      <th>4</th>\n",
       "      <td>1901</td>\n",
       "      <td>Peace</td>\n",
       "      <td>The Nobel Peace Prize 1901</td>\n",
       "      <td>NaN</td>\n",
       "      <td>1/2</td>\n",
       "      <td>463</td>\n",
       "      <td>Individual</td>\n",
       "      <td>Frédéric Passy</td>\n",
       "      <td>1822-05-20</td>\n",
       "      <td>Paris</td>\n",
       "      <td>France</td>\n",
       "      <td>Male</td>\n",
       "      <td>NaN</td>\n",
       "      <td>NaN</td>\n",
       "      <td>NaN</td>\n",
       "      <td>1912-06-12</td>\n",
       "      <td>Paris</td>\n",
       "      <td>France</td>\n",
       "    </tr>\n",
       "  </tbody>\n",
       "</table>\n",
       "</div>"
      ],
      "text/plain": [
       "   year    category  ... death_city death_country\n",
       "0  1901   Chemistry  ...     Berlin       Germany\n",
       "1  1901  Literature  ...   Châtenay        France\n",
       "2  1901    Medicine  ...    Marburg       Germany\n",
       "3  1901       Peace  ...     Heiden   Switzerland\n",
       "4  1901       Peace  ...      Paris        France\n",
       "\n",
       "[5 rows x 18 columns]"
      ]
     },
     "execution_count": 133,
     "metadata": {},
     "output_type": "execute_result"
    }
   ],
   "source": [
    "# Loading in required libraries\n",
    "import pandas as pd\n",
    "import seaborn as sns\n",
    "import numpy as np\n",
    "\n",
    "# Start coding here!\n",
    "df = pd.read_csv(\"data/nobel.csv\")\n",
    "df.head()"
   ]
  },
  {
   "cell_type": "code",
   "execution_count": 134,
   "id": "f1804a31-a185-47d6-82bb-d2cda6429ca0",
   "metadata": {
    "executionCancelledAt": null,
    "executionTime": 48,
    "lastExecutedAt": 1719103596581,
    "lastExecutedByKernel": "8be4f778-5a8d-47fb-9e65-e6bccb56b657",
    "lastScheduledRunId": null,
    "lastSuccessfullyExecutedCode": "top_gender = df[\"sex\"].value_counts().index[0]\ntop_gender",
    "outputsMetadata": {
     "0": {
      "height": 121,
      "type": "dataFrame"
     }
    }
   },
   "outputs": [
    {
     "data": {
      "text/plain": [
       "'Male'"
      ]
     },
     "execution_count": 134,
     "metadata": {},
     "output_type": "execute_result"
    }
   ],
   "source": [
    "top_gender = df[\"sex\"].value_counts().index[0]\n",
    "top_gender"
   ]
  },
  {
   "cell_type": "code",
   "execution_count": 135,
   "id": "3eae5505-b933-42f9-910d-5cbfd2c25240",
   "metadata": {
    "executionCancelledAt": null,
    "executionTime": 48,
    "lastExecutedAt": 1719103596629,
    "lastExecutedByKernel": "8be4f778-5a8d-47fb-9e65-e6bccb56b657",
    "lastScheduledRunId": null,
    "lastSuccessfullyExecutedCode": "top_country = df[\"birth_country\"].value_counts().index[0]\ntop_country"
   },
   "outputs": [
    {
     "data": {
      "text/plain": [
       "'United States of America'"
      ]
     },
     "execution_count": 135,
     "metadata": {},
     "output_type": "execute_result"
    }
   ],
   "source": [
    "top_country = df[\"birth_country\"].value_counts().index[0]\n",
    "top_country"
   ]
  },
  {
   "cell_type": "code",
   "execution_count": 136,
   "id": "4f01b57a-3b70-4712-bd92-bc1abed578de",
   "metadata": {
    "executionCancelledAt": null,
    "executionTime": 72,
    "lastExecutedAt": 1719103596701,
    "lastExecutedByKernel": "8be4f778-5a8d-47fb-9e65-e6bccb56b657",
    "lastScheduledRunId": null,
    "lastSuccessfullyExecutedCode": "df[\"decade\"] = round((df[\"year\"]/10), 0) * 10\ndf.head()",
    "outputsMetadata": {
     "0": {
      "height": 237,
      "type": "dataFrame"
     }
    }
   },
   "outputs": [
    {
     "data": {
      "application/com.datacamp.data-table.v2+json": {
       "table": {
        "data": {
         "birth_city": [
          "Rotterdam",
          "Paris",
          "Hansdorf (Lawice)",
          "Geneva",
          "Paris"
         ],
         "birth_country": [
          "Netherlands",
          "France",
          "Prussia (Poland)",
          "Switzerland",
          "France"
         ],
         "birth_date": [
          "1852-08-30",
          "1839-03-16",
          "1854-03-15",
          "1828-05-08",
          "1822-05-20"
         ],
         "category": [
          "Chemistry",
          "Literature",
          "Medicine",
          "Peace",
          "Peace"
         ],
         "death_city": [
          "Berlin",
          "Châtenay",
          "Marburg",
          "Heiden",
          "Paris"
         ],
         "death_country": [
          "Germany",
          "France",
          "Germany",
          "Switzerland",
          "France"
         ],
         "death_date": [
          "1911-03-01",
          "1907-09-07",
          "1917-03-31",
          "1910-10-30",
          "1912-06-12"
         ],
         "decade": [
          1900,
          1900,
          1900,
          1900,
          1900
         ],
         "full_name": [
          "Jacobus Henricus van 't Hoff",
          "Sully Prudhomme",
          "Emil Adolf von Behring",
          "Jean Henry Dunant",
          "Frédéric Passy"
         ],
         "index": [
          0,
          1,
          2,
          3,
          4
         ],
         "laureate_id": [
          160,
          569,
          293,
          462,
          463
         ],
         "laureate_type": [
          "Individual",
          "Individual",
          "Individual",
          "Individual",
          "Individual"
         ],
         "motivation": [
          "\"in recognition of the extraordinary services he has rendered by the discovery of the laws of chemical dynamics and osmotic pressure in solutions\"",
          "\"in special recognition of his poetic composition, which gives evidence of lofty idealism, artistic perfection and a rare combination of the qualities of both heart and intellect\"",
          "\"for his work on serum therapy, especially its application against diphtheria, by which he has opened a new road in the domain of medical science and thereby placed in the hands of the physician a victorious weapon against illness and deaths\"",
          null,
          null
         ],
         "organization_city": [
          "Berlin",
          null,
          "Marburg",
          null,
          null
         ],
         "organization_country": [
          "Germany",
          null,
          "Germany",
          null,
          null
         ],
         "organization_name": [
          "Berlin University",
          null,
          "Marburg University",
          null,
          null
         ],
         "prize": [
          "The Nobel Prize in Chemistry 1901",
          "The Nobel Prize in Literature 1901",
          "The Nobel Prize in Physiology or Medicine 1901",
          "The Nobel Peace Prize 1901",
          "The Nobel Peace Prize 1901"
         ],
         "prize_share": [
          "1/1",
          "1/1",
          "1/1",
          "1/2",
          "1/2"
         ],
         "sex": [
          "Male",
          "Male",
          "Male",
          "Male",
          "Male"
         ],
         "year": [
          1901,
          1901,
          1901,
          1901,
          1901
         ]
        },
        "schema": {
         "fields": [
          {
           "name": "index",
           "type": "integer"
          },
          {
           "name": "year",
           "type": "integer"
          },
          {
           "name": "category",
           "type": "string"
          },
          {
           "name": "prize",
           "type": "string"
          },
          {
           "name": "motivation",
           "type": "string"
          },
          {
           "name": "prize_share",
           "type": "string"
          },
          {
           "name": "laureate_id",
           "type": "integer"
          },
          {
           "name": "laureate_type",
           "type": "string"
          },
          {
           "name": "full_name",
           "type": "string"
          },
          {
           "name": "birth_date",
           "type": "string"
          },
          {
           "name": "birth_city",
           "type": "string"
          },
          {
           "name": "birth_country",
           "type": "string"
          },
          {
           "name": "sex",
           "type": "string"
          },
          {
           "name": "organization_name",
           "type": "string"
          },
          {
           "name": "organization_city",
           "type": "string"
          },
          {
           "name": "organization_country",
           "type": "string"
          },
          {
           "name": "death_date",
           "type": "string"
          },
          {
           "name": "death_city",
           "type": "string"
          },
          {
           "name": "death_country",
           "type": "string"
          },
          {
           "name": "decade",
           "type": "number"
          }
         ],
         "pandas_version": "1.4.0",
         "primaryKey": [
          "index"
         ]
        }
       },
       "total_rows": 5,
       "truncation_type": null
      },
      "text/html": [
       "<div>\n",
       "<style scoped>\n",
       "    .dataframe tbody tr th:only-of-type {\n",
       "        vertical-align: middle;\n",
       "    }\n",
       "\n",
       "    .dataframe tbody tr th {\n",
       "        vertical-align: top;\n",
       "    }\n",
       "\n",
       "    .dataframe thead th {\n",
       "        text-align: right;\n",
       "    }\n",
       "</style>\n",
       "<table border=\"1\" class=\"dataframe\">\n",
       "  <thead>\n",
       "    <tr style=\"text-align: right;\">\n",
       "      <th></th>\n",
       "      <th>year</th>\n",
       "      <th>category</th>\n",
       "      <th>prize</th>\n",
       "      <th>motivation</th>\n",
       "      <th>prize_share</th>\n",
       "      <th>laureate_id</th>\n",
       "      <th>laureate_type</th>\n",
       "      <th>full_name</th>\n",
       "      <th>birth_date</th>\n",
       "      <th>birth_city</th>\n",
       "      <th>birth_country</th>\n",
       "      <th>sex</th>\n",
       "      <th>organization_name</th>\n",
       "      <th>organization_city</th>\n",
       "      <th>organization_country</th>\n",
       "      <th>death_date</th>\n",
       "      <th>death_city</th>\n",
       "      <th>death_country</th>\n",
       "      <th>decade</th>\n",
       "    </tr>\n",
       "  </thead>\n",
       "  <tbody>\n",
       "    <tr>\n",
       "      <th>0</th>\n",
       "      <td>1901</td>\n",
       "      <td>Chemistry</td>\n",
       "      <td>The Nobel Prize in Chemistry 1901</td>\n",
       "      <td>\"in recognition of the extraordinary services ...</td>\n",
       "      <td>1/1</td>\n",
       "      <td>160</td>\n",
       "      <td>Individual</td>\n",
       "      <td>Jacobus Henricus van 't Hoff</td>\n",
       "      <td>1852-08-30</td>\n",
       "      <td>Rotterdam</td>\n",
       "      <td>Netherlands</td>\n",
       "      <td>Male</td>\n",
       "      <td>Berlin University</td>\n",
       "      <td>Berlin</td>\n",
       "      <td>Germany</td>\n",
       "      <td>1911-03-01</td>\n",
       "      <td>Berlin</td>\n",
       "      <td>Germany</td>\n",
       "      <td>1900.0</td>\n",
       "    </tr>\n",
       "    <tr>\n",
       "      <th>1</th>\n",
       "      <td>1901</td>\n",
       "      <td>Literature</td>\n",
       "      <td>The Nobel Prize in Literature 1901</td>\n",
       "      <td>\"in special recognition of his poetic composit...</td>\n",
       "      <td>1/1</td>\n",
       "      <td>569</td>\n",
       "      <td>Individual</td>\n",
       "      <td>Sully Prudhomme</td>\n",
       "      <td>1839-03-16</td>\n",
       "      <td>Paris</td>\n",
       "      <td>France</td>\n",
       "      <td>Male</td>\n",
       "      <td>NaN</td>\n",
       "      <td>NaN</td>\n",
       "      <td>NaN</td>\n",
       "      <td>1907-09-07</td>\n",
       "      <td>Châtenay</td>\n",
       "      <td>France</td>\n",
       "      <td>1900.0</td>\n",
       "    </tr>\n",
       "    <tr>\n",
       "      <th>2</th>\n",
       "      <td>1901</td>\n",
       "      <td>Medicine</td>\n",
       "      <td>The Nobel Prize in Physiology or Medicine 1901</td>\n",
       "      <td>\"for his work on serum therapy, especially its...</td>\n",
       "      <td>1/1</td>\n",
       "      <td>293</td>\n",
       "      <td>Individual</td>\n",
       "      <td>Emil Adolf von Behring</td>\n",
       "      <td>1854-03-15</td>\n",
       "      <td>Hansdorf (Lawice)</td>\n",
       "      <td>Prussia (Poland)</td>\n",
       "      <td>Male</td>\n",
       "      <td>Marburg University</td>\n",
       "      <td>Marburg</td>\n",
       "      <td>Germany</td>\n",
       "      <td>1917-03-31</td>\n",
       "      <td>Marburg</td>\n",
       "      <td>Germany</td>\n",
       "      <td>1900.0</td>\n",
       "    </tr>\n",
       "    <tr>\n",
       "      <th>3</th>\n",
       "      <td>1901</td>\n",
       "      <td>Peace</td>\n",
       "      <td>The Nobel Peace Prize 1901</td>\n",
       "      <td>NaN</td>\n",
       "      <td>1/2</td>\n",
       "      <td>462</td>\n",
       "      <td>Individual</td>\n",
       "      <td>Jean Henry Dunant</td>\n",
       "      <td>1828-05-08</td>\n",
       "      <td>Geneva</td>\n",
       "      <td>Switzerland</td>\n",
       "      <td>Male</td>\n",
       "      <td>NaN</td>\n",
       "      <td>NaN</td>\n",
       "      <td>NaN</td>\n",
       "      <td>1910-10-30</td>\n",
       "      <td>Heiden</td>\n",
       "      <td>Switzerland</td>\n",
       "      <td>1900.0</td>\n",
       "    </tr>\n",
       "    <tr>\n",
       "      <th>4</th>\n",
       "      <td>1901</td>\n",
       "      <td>Peace</td>\n",
       "      <td>The Nobel Peace Prize 1901</td>\n",
       "      <td>NaN</td>\n",
       "      <td>1/2</td>\n",
       "      <td>463</td>\n",
       "      <td>Individual</td>\n",
       "      <td>Frédéric Passy</td>\n",
       "      <td>1822-05-20</td>\n",
       "      <td>Paris</td>\n",
       "      <td>France</td>\n",
       "      <td>Male</td>\n",
       "      <td>NaN</td>\n",
       "      <td>NaN</td>\n",
       "      <td>NaN</td>\n",
       "      <td>1912-06-12</td>\n",
       "      <td>Paris</td>\n",
       "      <td>France</td>\n",
       "      <td>1900.0</td>\n",
       "    </tr>\n",
       "  </tbody>\n",
       "</table>\n",
       "</div>"
      ],
      "text/plain": [
       "   year    category  ... death_country  decade\n",
       "0  1901   Chemistry  ...       Germany  1900.0\n",
       "1  1901  Literature  ...        France  1900.0\n",
       "2  1901    Medicine  ...       Germany  1900.0\n",
       "3  1901       Peace  ...   Switzerland  1900.0\n",
       "4  1901       Peace  ...        France  1900.0\n",
       "\n",
       "[5 rows x 19 columns]"
      ]
     },
     "execution_count": 136,
     "metadata": {},
     "output_type": "execute_result"
    }
   ],
   "source": [
    "df[\"decade\"] = round((df[\"year\"]/10), 0) * 10\n",
    "df.head()"
   ]
  },
  {
   "cell_type": "code",
   "execution_count": 137,
   "id": "9d1da7c9-8b31-44be-bce0-2239a569b83d",
   "metadata": {
    "executionCancelledAt": null,
    "executionTime": 48,
    "lastExecutedAt": 1719103596749,
    "lastExecutedByKernel": "8be4f778-5a8d-47fb-9e65-e6bccb56b657",
    "lastScheduledRunId": null,
    "lastSuccessfullyExecutedCode": "max_decade_usa = int(((df[df[\"birth_country\"] == \"United States of America\"][\"decade\"].value_counts().sort_index()) / (df[\"decade\"].value_counts().sort_index())).sort_values(ascending = False).index[0])\nmax_decade_usa",
    "outputsMetadata": {
     "0": {
      "height": 321,
      "type": "dataFrame"
     }
    }
   },
   "outputs": [
    {
     "data": {
      "text/plain": [
       "2000"
      ]
     },
     "execution_count": 137,
     "metadata": {},
     "output_type": "execute_result"
    }
   ],
   "source": [
    "max_decade_usa = int(((df[df[\"birth_country\"] == \"United States of America\"][\"decade\"].value_counts().sort_index()) / (df[\"decade\"].value_counts().sort_index())).sort_values(ascending = False).index[0])\n",
    "max_decade_usa"
   ]
  },
  {
   "cell_type": "code",
   "execution_count": 138,
   "id": "09d768a6-2dc5-4625-9715-94bc497e5bad",
   "metadata": {
    "executionCancelledAt": null,
    "executionTime": 52,
    "lastExecutedAt": 1719103596801,
    "lastExecutedByKernel": "8be4f778-5a8d-47fb-9e65-e6bccb56b657",
    "lastScheduledRunId": null,
    "lastSuccessfullyExecutedCode": "max_female = (df[df[\"sex\"] == \"Female\"][[\"decade\", \"category\"]].value_counts().sort_index() / df[[\"decade\", \"category\"]].value_counts().sort_index()).sort_values(ascending = False)\nmax_female_dict = {max_female.index[0][0] : max_female.index[0][1]}\nmax_female",
    "outputsMetadata": {
     "0": {
      "height": 543,
      "type": "dataFrame"
     }
    }
   },
   "outputs": [
    {
     "data": {
      "application/com.datacamp.data-table.v2+json": {
       "table": {
        "data": {
         "0": [
          0.4444444444,
          0.3333333333,
          0.3333333333,
          0.2857142857,
          0.2857142857,
          0.2307692308,
          0.2222222222,
          0.2222222222,
          0.1818181818,
          0.1764705882,
          0.1739130435,
          0.1666666667,
          0.16,
          0.1428571429,
          0.125,
          0.125,
          0.1153846154,
          0.1111111111,
          0.1111111111,
          0.1,
          0.1,
          0.1,
          0.1,
          0.0909090909,
          0.0909090909,
          0.08,
          0.0714285714,
          0.0714285714,
          0.0588235294,
          0.0555555556,
          0.05,
          0.04,
          null,
          null,
          null,
          null,
          null,
          null,
          null,
          null,
          null,
          null,
          null,
          null,
          null,
          null,
          null,
          null,
          null,
          null,
          null,
          null,
          null,
          null,
          null,
          null,
          null,
          null,
          null,
          null,
          null,
          null,
          null,
          null,
          null,
          null,
          null,
          null,
          null,
          null,
          null
         ],
         "category": [
          "Literature",
          "Literature",
          "Literature",
          "Peace",
          "Peace",
          "Peace",
          "Literature",
          "Literature",
          "Literature",
          "Peace",
          "Medicine",
          "Peace",
          "Chemistry",
          "Peace",
          "Physics",
          "Literature",
          "Physics",
          "Economics",
          "Medicine",
          "Peace",
          "Peace",
          "Medicine",
          "Chemistry",
          "Literature",
          "Chemistry",
          "Medicine",
          "Medicine",
          "Chemistry",
          "Medicine",
          "Economics",
          "Chemistry",
          "Physics",
          "Chemistry",
          "Literature",
          "Medicine",
          "Medicine",
          "Peace",
          "Physics",
          "Chemistry",
          "Literature",
          "Medicine",
          "Peace",
          "Physics",
          "Chemistry",
          "Medicine",
          "Physics",
          "Medicine",
          "Peace",
          "Physics",
          "Chemistry",
          "Literature",
          "Physics",
          "Literature",
          "Medicine",
          "Peace",
          "Chemistry",
          "Economics",
          "Medicine",
          "Peace",
          "Physics",
          "Chemistry",
          "Economics",
          "Literature",
          "Physics",
          "Chemistry",
          "Economics",
          "Physics",
          "Chemistry",
          "Economics",
          "Physics",
          "Physics"
         ],
         "decade": [
          2020,
          1940,
          2010,
          2010,
          1980,
          2020,
          1930,
          1990,
          2000,
          2000,
          2010,
          1990,
          2020,
          1900,
          1900,
          1910,
          2020,
          2020,
          1990,
          1950,
          1930,
          2020,
          1910,
          1970,
          1940,
          2000,
          1980,
          1960,
          1950,
          2010,
          2010,
          1960,
          1900,
          1900,
          1900,
          1910,
          1910,
          1910,
          1920,
          1920,
          1920,
          1920,
          1920,
          1930,
          1930,
          1930,
          1940,
          1940,
          1940,
          1950,
          1950,
          1950,
          1960,
          1960,
          1960,
          1970,
          1970,
          1970,
          1970,
          1970,
          1980,
          1980,
          1980,
          1980,
          1990,
          1990,
          1990,
          2000,
          2000,
          2000,
          2010
         ]
        },
        "schema": {
         "fields": [
          {
           "name": "decade",
           "type": "number"
          },
          {
           "name": "category",
           "type": "string"
          },
          {
           "name": "0",
           "type": "number"
          }
         ],
         "pandas_version": "1.4.0",
         "primaryKey": [
          "decade",
          "category"
         ]
        }
       },
       "total_rows": 71,
       "truncation_type": null
      },
      "text/plain": [
       "decade  category  \n",
       "2020.0  Literature    0.444444\n",
       "1940.0  Literature    0.333333\n",
       "2010.0  Literature    0.333333\n",
       "        Peace         0.285714\n",
       "1980.0  Peace         0.285714\n",
       "                        ...   \n",
       "1990.0  Physics            NaN\n",
       "2000.0  Chemistry          NaN\n",
       "        Economics          NaN\n",
       "        Physics            NaN\n",
       "2010.0  Physics            NaN\n",
       "Length: 71, dtype: float64"
      ]
     },
     "execution_count": 138,
     "metadata": {},
     "output_type": "execute_result"
    }
   ],
   "source": [
    "max_female = (df[df[\"sex\"] == \"Female\"][[\"decade\", \"category\"]].value_counts().sort_index() / df[[\"decade\", \"category\"]].value_counts().sort_index()).sort_values(ascending = False)\n",
    "max_female_dict = {max_female.index[0][0] : max_female.index[0][1]}\n",
    "max_female"
   ]
  },
  {
   "cell_type": "code",
   "execution_count": 139,
   "id": "f56ecab5-e224-4f9b-bec6-aaab99a79dfa",
   "metadata": {
    "executionCancelledAt": null,
    "executionTime": 52,
    "lastExecutedAt": 1719103596853,
    "lastExecutedByKernel": "8be4f778-5a8d-47fb-9e65-e6bccb56b657",
    "lastScheduledRunId": null,
    "lastSuccessfullyExecutedCode": "first_woman_name = df[df[\"sex\"] == \"Female\"][\"full_name\"].values[0]\n#df.loc[df[\"sex\"] == \"Female\", \"full_name\"].values[0]\nfirst_woman_name",
    "outputsMetadata": {
     "0": {
      "height": 321,
      "type": "dataFrame"
     }
    }
   },
   "outputs": [
    {
     "data": {
      "text/plain": [
       "'Marie Curie, née Sklodowska'"
      ]
     },
     "execution_count": 139,
     "metadata": {},
     "output_type": "execute_result"
    }
   ],
   "source": [
    "first_woman_name = df[df[\"sex\"] == \"Female\"][\"full_name\"].values[0]\n",
    "#df.loc[df[\"sex\"] == \"Female\", \"full_name\"].values[0]\n",
    "first_woman_name"
   ]
  },
  {
   "cell_type": "code",
   "execution_count": 140,
   "id": "2ca4132d-58a5-4754-95c3-5cce518139f9",
   "metadata": {
    "executionCancelledAt": null,
    "executionTime": 52,
    "lastExecutedAt": 1719103596905,
    "lastExecutedByKernel": "8be4f778-5a8d-47fb-9e65-e6bccb56b657",
    "lastScheduledRunId": null,
    "lastSuccessfullyExecutedCode": "first_woman_category = df[df[\"sex\"] == \"Female\"][\"category\"].values[0]\nfirst_woman_category"
   },
   "outputs": [
    {
     "data": {
      "text/plain": [
       "'Physics'"
      ]
     },
     "execution_count": 140,
     "metadata": {},
     "output_type": "execute_result"
    }
   ],
   "source": [
    "first_woman_category = df[df[\"sex\"] == \"Female\"][\"category\"].values[0]\n",
    "first_woman_category"
   ]
  },
  {
   "cell_type": "code",
   "execution_count": 141,
   "id": "49e0f9a2-fbeb-402a-a861-48d453df8a29",
   "metadata": {
    "executionCancelledAt": null,
    "executionTime": 52,
    "lastExecutedAt": 1719103596957,
    "lastExecutedByKernel": "8be4f778-5a8d-47fb-9e65-e6bccb56b657",
    "lastScheduledRunId": null,
    "lastSuccessfullyExecutedCode": "prize_count = df[\"full_name\"].value_counts()\nrepeat_list = list(prize_count.loc[lambda x : x > 1].index)\nrepeat_list",
    "outputsMetadata": {
     "0": {
      "height": 221,
      "type": "dataFrame"
     }
    }
   },
   "outputs": [
    {
     "data": {
      "text/plain": [
       "['Comité international de la Croix Rouge (International Committee of the Red Cross)',\n",
       " 'Linus Carl Pauling',\n",
       " 'John Bardeen',\n",
       " 'Frederick Sanger',\n",
       " 'Marie Curie, née Sklodowska',\n",
       " 'Office of the United Nations High Commissioner for Refugees (UNHCR)']"
      ]
     },
     "execution_count": 141,
     "metadata": {},
     "output_type": "execute_result"
    }
   ],
   "source": [
    "prize_count = df[\"full_name\"].value_counts()\n",
    "repeat_list = list(prize_count.loc[lambda x : x > 1].index)\n",
    "repeat_list"
   ]
  }
 ],
 "metadata": {
  "editor": "DataCamp Workspace",
  "kernelspec": {
   "display_name": "Python 3 (ipykernel)",
   "language": "python",
   "name": "python3"
  },
  "language_info": {
   "codemirror_mode": {
    "name": "ipython",
    "version": 3
   },
   "file_extension": ".py",
   "mimetype": "text/x-python",
   "name": "python",
   "nbconvert_exporter": "python",
   "pygments_lexer": "ipython3",
   "version": "3.12.3"
  }
 },
 "nbformat": 4,
 "nbformat_minor": 5
}
